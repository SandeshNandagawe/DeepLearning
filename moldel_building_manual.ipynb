{
 "cells": [
  {
   "cell_type": "code",
   "execution_count": 105,
   "id": "e91b4300",
   "metadata": {
    "ExecuteTime": {
     "end_time": "2022-11-12T10:41:00.903874Z",
     "start_time": "2022-11-12T10:26:35.636226Z"
    }
   },
   "outputs": [],
   "source": [
    "import pandas as pd\n",
    "import numpy as np\n",
    "import matplotlib.pyplot as plt\n",
    "%matplotlib inline"
   ]
  },
  {
   "cell_type": "code",
   "execution_count": 106,
   "id": "f4ee409c",
   "metadata": {},
   "outputs": [],
   "source": [
    "X = np.array([[0,1],[1,0],[1,1],[0,0]])\n",
    "y = np.array([[1],[1],[0],[0]])"
   ]
  },
  {
   "cell_type": "code",
   "execution_count": 107,
   "id": "932dbf23",
   "metadata": {},
   "outputs": [],
   "source": [
    "#Define number of nodes in each layer\n",
    "num_input = 2\n",
    "num_hidden = 5\n",
    "num_output = 1"
   ]
  },
  {
   "cell_type": "code",
   "execution_count": 108,
   "id": "2d4a4386",
   "metadata": {},
   "outputs": [],
   "source": [
    "# Initializes weights and bias randomly\n",
    "# First initialize from input to hidden layer\n",
    "Wxh = np.random.randn(num_input,num_hidden)\n",
    "bh = np.zeros((1,num_hidden))"
   ]
  },
  {
   "cell_type": "code",
   "execution_count": 109,
   "id": "5780e8ad",
   "metadata": {},
   "outputs": [],
   "source": [
    "# Initialize from hidden to output layers\n",
    "Why = np.random.randn(num_hidden,num_output)\n",
    "by = np.zeros((1,num_output))"
   ]
  },
  {
   "cell_type": "code",
   "execution_count": 110,
   "id": "221678aa",
   "metadata": {},
   "outputs": [],
   "source": [
    "# Define sigmoid activation function\n",
    "def sigmoid (z):\n",
    "    return 1/ (1+np.exp(-z))"
   ]
  },
  {
   "cell_type": "code",
   "execution_count": 111,
   "id": "b5cae19e",
   "metadata": {},
   "outputs": [],
   "source": [
    "# Define derivative of sigmoid activation function\n",
    "def sigmoid_derivative(z):\n",
    "    return np.exp(-z)/ ((1+np.exp(-z))**2)"
   ]
  },
  {
   "cell_type": "code",
   "execution_count": 112,
   "id": "0c2a38fd",
   "metadata": {},
   "outputs": [],
   "source": [
    "# Define Forward propogation\n",
    "def forward_prop(X,Wxh,Why):\n",
    "    z1 = np.dot(X,Wxh) + bh\n",
    "    a1 = sigmoid(z1)\n",
    "    z2 = np.dot(a1,Why) + by\n",
    "    y_hat = sigmoid(z2)\n",
    "    return z1,a1,z2,y_hat"
   ]
  },
  {
   "cell_type": "code",
   "execution_count": 113,
   "id": "aec9112a",
   "metadata": {},
   "outputs": [],
   "source": [
    "# Define the backward propogation\n",
    "def backward_prop(y_hat,z1,a1,z2):\n",
    "    delta2 = np.multiply(-(y-y_hat), sigmoid_derivative(z2))\n",
    "    dJ_dWhy = np.dot(a1.T, delta2)\n",
    "    delta1 = np.dot(delta2, Why.T) *sigmoid(z1)\n",
    "    dJ_dWxh = np.dot(X.T,delta1)\n",
    "    return dJ_dWxh,dJ_dWhy"
   ]
  },
  {
   "cell_type": "code",
   "execution_count": 114,
   "id": "7acf3887",
   "metadata": {},
   "outputs": [],
   "source": [
    "# Define Cost Function\n",
    "def cost_function(y,y_hat):\n",
    "    J = 0.5 * sum((y-y_hat)**2)\n",
    "    return J"
   ]
  },
  {
   "cell_type": "code",
   "execution_count": 115,
   "id": "8c8d5e5a",
   "metadata": {},
   "outputs": [],
   "source": [
    "# Set learning rate and number of training iterations\n",
    "alpha = 0.01\n",
    "num_iterations = 5000"
   ]
  },
  {
   "cell_type": "code",
   "execution_count": 116,
   "id": "2f080bcf",
   "metadata": {},
   "outputs": [],
   "source": [
    "cost = []\n",
    "for i in range(num_iterations):\n",
    "    z1,a1,z2,y_hat = forward_prop(X,Wxh,Why)\n",
    "    dJ_dWxh,dJ_dWhy =  backward_prop(y_hat,z1,a1,z2)\n",
    "    \n",
    "    # Update weights\n",
    "    Whx = Wxh - alpha * dJ_dWxh\n",
    "    Why = Why - alpha * dJ_dWhy\n",
    "    \n",
    "    # Compute Cost\n",
    "    c = cost_function(y,y_hat)\n",
    "    cost.append(c)\n",
    "    "
   ]
  },
  {
   "cell_type": "code",
   "execution_count": 117,
   "id": "13553ecb",
   "metadata": {},
   "outputs": [
    {
     "data": {
      "text/plain": [
       "Text(0, 0.5, 'Cost')"
      ]
     },
     "execution_count": 117,
     "metadata": {},
     "output_type": "execute_result"
    },
    {
     "data": {
      "image/png": "[encoded data removed]",
      "text/plain": [
       "<Figure size 640x480 with 1 Axes>"
      ]
     },
     "metadata": {},
     "output_type": "display_data"
    }
   ],
   "source": [
    "# Plot the cost function\n",
    "\n",
    "plt.grid ()\n",
    "plt.plot(range(num_iterations), cost)\n",
    "plt.title (\" Cost Function\")\n",
    "plt.xlabel(\" Training iterations\")\n",
    "plt.ylabel(\"Cost\")"
   ]
  }
 ],
 "metadata": {
  "kernelspec": {
   "display_name": "Python 3.11.0 64-bit",
   "language": "python",
   "name": "python3"
  },
  "language_info": {
   "codemirror_mode": {
    "name": "ipython",
    "version": 3
   },
   "file_extension": ".py",
   "mimetype": "text/x-python",
   "name": "python",
   "nbconvert_exporter": "python",
   "pygments_lexer": "ipython3",
   "version": "3.11.0"
  },
  "vscode": {
   "interpreter": {
    "hash": "09d1a3c23ab5c1d61707d9492659cad3105a4898f532b51fd75a941a732fe92d"
   }
  }
 },
 "nbformat": 4,
 "nbformat_minor": 5
}
